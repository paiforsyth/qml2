{
 "cells": [
  {
   "cell_type": "markdown",
   "source": [
    "This notebook studies the minimization of CVaR using a portfolio of call options.  It is inspired by *Alexander, Siddharth, Thomas F. Coleman, and Yuying Li. \"Minimizing CVaR and VaR for a portfolio of derivatives.\" Journal of Banking & Finance 30.2 (2006): 583-605*.\n",
    "\n",
    "\n",
    "Let's start out by generating some asset price data using the parameters given in Tables 9-11 of the paper."
   ],
   "metadata": {
    "collapsed": false,
    "pycharm": {
     "name": "#%% md\n"
    }
   }
  },
  {
   "cell_type": "code",
   "execution_count": 2,
   "outputs": [],
   "source": [
    "from examples import acy_util\n",
    "import jax\n",
    "\n",
    "seed = 42\n",
    "key = jax.random.PRNGKey(seed)  # This initializes a key for the jax pseudo-random-number generator\n",
    "asset_paths = acy_util.generate_terminal_values(n_paths=2000, terminal_time=62.5, key=key)\n",
    "print(asset_paths.dims)"
   ],
   "metadata": {
    "collapsed": false,
    "pycharm": {
     "name": "#%%\n"
    }
   }
  },
  {
   "cell_type": "markdown",
   "source": [
    "The two-dimensional array *asset_paths* records the price of each of four underlying assets at the terminal time in each simulation.\n",
    "We have made use of the file *acy_util.py*, which contains some utility functions pertaining the paper referenced above.  Look at that file if you want more details.\n",
    "\n",
    "Before turning to CVaR minimization with call options, lets look at CVar minimization with the four underlying assets."
   ],
   "metadata": {
    "collapsed": false,
    "pycharm": {
     "name": "#%% md\n"
    }
   }
  }
 ],
 "metadata": {
  "kernelspec": {
   "display_name": "Python 3",
   "language": "python",
   "name": "python3"
  },
  "language_info": {
   "codemirror_mode": {
    "name": "ipython",
    "version": 2
   },
   "file_extension": ".py",
   "mimetype": "text/x-python",
   "name": "python",
   "nbconvert_exporter": "python",
   "pygments_lexer": "ipython2",
   "version": "2.7.6"
  }
 },
 "nbformat": 4,
 "nbformat_minor": 0
}